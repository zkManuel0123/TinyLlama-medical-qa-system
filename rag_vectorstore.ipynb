{
 "cells": [
  {
   "cell_type": "code",
   "execution_count": null,
   "metadata": {},
   "outputs": [],
   "source": [
    "\n",
    "from datasets import load_dataset\n",
    "from transformers import AutoTokenizer, AutoModel\n",
    "import torch\n",
    "import faiss\n",
    "import numpy as np\n",
    "import os\n",
    "import pickle"
   ]
  },
  {
   "cell_type": "code",
   "execution_count": null,
   "metadata": {},
   "outputs": [],
   "source": [
    "\n",
    "def load_and_prepare_data():\n",
    "    dataset = load_dataset(\"enelpol/rag-mini-bioasq\", \"text-corpus\")\n",
    "    \n",
    "    texts = dataset['test']['passage'][:1000]\n",
    "    ids = dataset['test']['id'][:1000]\n",
    "    return texts, ids"
   ]
  },
  {
   "cell_type": "code",
   "execution_count": null,
   "metadata": {},
   "outputs": [],
   "source": [
    "\n",
    "def load_model_and_tokenizer():\n",
    "    model_name = \"ncbi/MedCPT-Query-Encoder\"\n",
    "    tokenizer = AutoTokenizer.from_pretrained(model_name)\n",
    "    model = AutoModel.from_pretrained(model_name)\n",
    "    \n",
    "    device = torch.device(\"cuda\" if torch.cuda.is_available() else \"cpu\")\n",
    "    model = model.to(device)\n",
    "    return model, tokenizer, device"
   ]
  },
  {
   "cell_type": "code",
   "execution_count": null,
   "metadata": {},
   "outputs": [],
   "source": [
    "\n",
    "def compute_embeddings(texts, model, tokenizer, device, batch_size=32):\n",
    "    embeddings = []\n",
    "    \n",
    "    for i in range(0, len(texts), batch_size):\n",
    "        batch_texts = texts[i:i + batch_size]\n",
    "        \n",
    "        \n",
    "        inputs = tokenizer(batch_texts, padding=True, truncation=True, \n",
    "                         max_length=512, return_tensors=\"pt\")\n",
    "        \n",
    "        \n",
    "        inputs = {k: v.to(device) for k, v in inputs.items()}\n",
    "        \n",
    "        \n",
    "        with torch.no_grad():\n",
    "            outputs = model(**inputs)\n",
    "            \n",
    "            batch_embeddings = outputs.last_hidden_state[:, 0, :].cpu().numpy()\n",
    "            embeddings.append(batch_embeddings)\n",
    "    \n",
    "    \n",
    "    embeddings = np.vstack(embeddings)\n",
    "    return embeddings"
   ]
  },
  {
   "cell_type": "code",
   "execution_count": null,
   "metadata": {},
   "outputs": [],
   "source": [
    "\n",
    "def create_and_save_faiss_index(embeddings, texts, ids, save_dir=\"faiss_index\"):\n",
    "    \n",
    "    dimension = embeddings.shape[1]\n",
    "    index = faiss.IndexFlatL2(dimension)\n",
    "    \n",
    "    \n",
    "    index.add(embeddings)\n",
    "    \n",
    "    \n",
    "    os.makedirs(save_dir, exist_ok=True)\n",
    "    \n",
    "    \n",
    "    faiss.write_index(index, os.path.join(save_dir, \"docs.index\"))\n",
    "    \n",
    "    \n",
    "    with open(os.path.join(save_dir, \"texts.pkl\"), \"wb\") as f:\n",
    "        pickle.dump({\"texts\": texts, \"ids\": ids}, f)\n",
    "    \n",
    "    return index"
   ]
  },
  {
   "cell_type": "code",
   "execution_count": null,
   "metadata": {},
   "outputs": [],
   "source": [
    "\n",
    "def main():\n",
    "    \n",
    "    texts, ids = load_and_prepare_data()\n",
    "    print(f\"Loaded {len(texts)} documents\")\n",
    "    \n",
    "    \n",
    "    model, tokenizer, device = load_model_and_tokenizer()\n",
    "    print(f\"Model loaded and moved to {device}\")\n",
    "    \n",
    "    \n",
    "    embeddings = compute_embeddings(texts, model, tokenizer, device)\n",
    "    print(f\"Computed embeddings with shape: {embeddings.shape}\")\n",
    "    \n",
    "    \n",
    "    index = create_and_save_faiss_index(embeddings, texts, ids)\n",
    "    print(f\"Created and saved FAISS index with {index.ntotal} vectors\")"
   ]
  },
  {
   "cell_type": "code",
   "execution_count": 34,
   "metadata": {},
   "outputs": [
    {
     "name": "stdout",
     "output_type": "stream",
     "text": [
      "Loaded 1000 documents\n",
      "Model loaded and moved to cuda\n",
      "Computed embeddings with shape: (1000, 768)\n",
      "Created and saved FAISS index with 1000 vectors\n"
     ]
    }
   ],
   "source": [
    "main()"
   ]
  }
 ],
 "metadata": {
  "kernelspec": {
   "display_name": "crewai",
   "language": "python",
   "name": "python3"
  },
  "language_info": {
   "codemirror_mode": {
    "name": "ipython",
    "version": 3
   },
   "file_extension": ".py",
   "mimetype": "text/x-python",
   "name": "python",
   "nbconvert_exporter": "python",
   "pygments_lexer": "ipython3",
   "version": "3.10.15"
  }
 },
 "nbformat": 4,
 "nbformat_minor": 2
}
